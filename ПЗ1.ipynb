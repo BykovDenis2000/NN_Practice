{
  "nbformat": 4,
  "nbformat_minor": 0,
  "metadata": {
    "colab": {
      "provenance": []
    },
    "kernelspec": {
      "name": "python3",
      "display_name": "Python 3"
    },
    "language_info": {
      "name": "python"
    }
  },
  "cells": [
    {
      "cell_type": "code",
      "execution_count": 1,
      "metadata": {
        "id": "dlp5iEcJmQ8J"
      },
      "outputs": [],
      "source": [
        "import torch"
      ]
    },
    {
      "cell_type": "code",
      "source": [
        "x= torch.tensor([1.,2.,3.], requires_grad=True) #тензоры\n",
        "y= torch.tensor([7.,3.,4.], requires_grad=True)"
      ],
      "metadata": {
        "id": "ISA4gn4hmeNV"
      },
      "execution_count": 3,
      "outputs": []
    },
    {
      "cell_type": "code",
      "source": [
        "q= x**5 - 3*y**2 #сложная функция"
      ],
      "metadata": {
        "id": "HzOwXSchmhdL"
      },
      "execution_count": 4,
      "outputs": []
    },
    {
      "cell_type": "code",
      "source": [
        "for i in range(3):\n",
        "  out = x[i]**5-3*y[i]**2\n",
        "  out.backward()\n",
        "print('Градиент x: ',x.grad)\n",
        "print('Градиент y: ',y.grad)"
      ],
      "metadata": {
        "colab": {
          "base_uri": "https://localhost:8080/"
        },
        "id": "CDVYlAXkmopQ",
        "outputId": "d5730a63-63d1-419c-ee76-376eacd0b221"
      },
      "execution_count": 5,
      "outputs": [
        {
          "output_type": "stream",
          "name": "stdout",
          "text": [
            "Градиент x:  tensor([  5.,  80., 405.])\n",
            "Градиент y:  tensor([-42., -18., -24.])\n"
          ]
        }
      ]
    }
  ]
}